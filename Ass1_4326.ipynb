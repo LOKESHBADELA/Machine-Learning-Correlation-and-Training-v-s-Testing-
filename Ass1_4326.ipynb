{
 "cells": [
  {
   "cell_type": "code",
   "execution_count": 17,
   "id": "934a1b7f-9177-41d5-93e4-f044ca707db9",
   "metadata": {},
   "outputs": [],
   "source": [
    "import pandas as pd\n",
    "import numpy as np\n",
    "import matplotlib.pyplot as plt\n",
    "from sklearn.model_selection import train_test_split\n"
   ]
  },
  {
   "cell_type": "code",
   "execution_count": 65,
   "id": "813667a6-abd0-4147-8fd7-ebe742afe714",
   "metadata": {},
   "outputs": [
    {
     "name": "stdout",
     "output_type": "stream",
     "text": [
      "My name in Hindi is : \n",
      " लोकेष बडेला\n"
     ]
    }
   ],
   "source": [
    "print(\"My name in Hindi is : \\n\",\"\\u0932\\u094B\\u0915\\u0947\\u0937\",\"\\u092c\\u0921\\u0947\\u0932\\u093e\")"
   ]
  },
  {
   "cell_type": "code",
   "execution_count": 21,
   "id": "3ce49ccf-7546-4032-9586-5a1975e27ff2",
   "metadata": {},
   "outputs": [
    {
     "name": "stdout",
     "output_type": "stream",
     "text": [
      "<class 'pandas.core.frame.DataFrame'>\n",
      "RangeIndex: 400 entries, 0 to 399\n",
      "Data columns (total 10 columns):\n",
      " #   Column       Non-Null Count  Dtype  \n",
      "---  ------       --------------  -----  \n",
      " 0   id           400 non-null    int64  \n",
      " 1   full_name    400 non-null    object \n",
      " 2   age          399 non-null    float64\n",
      " 3   gender       399 non-null    object \n",
      " 4   model        396 non-null    object \n",
      " 5   color        399 non-null    object \n",
      " 6   performance  397 non-null    float64\n",
      " 7   km           397 non-null    float64\n",
      " 8   condition    400 non-null    object \n",
      " 9   price        400 non-null    float64\n",
      "dtypes: float64(4), int64(1), object(5)\n",
      "memory usage: 31.4+ KB\n",
      "None\n"
     ]
    }
   ],
   "source": [
    "data = pd.read_csv(\"nissan.csv\")\n",
    "print(data.info())"
   ]
  },
  {
   "cell_type": "code",
   "execution_count": 23,
   "id": "18f905e2-4bec-4fe5-ad1a-d56f2bbeec76",
   "metadata": {},
   "outputs": [
    {
     "name": "stdout",
     "output_type": "stream",
     "text": [
      "(400, 10)\n",
      "total number of samples are :  400\n",
      "total number of features are :  10\n"
     ]
    }
   ],
   "source": [
    "#1. Gives the shape of the dataframe \n",
    "shape = data.shape\n",
    "print(shape)\n",
    "print(\"total number of samples are : \",shape[0])\n",
    "print(\"total number of features are : \",shape[1])"
   ]
  },
  {
   "cell_type": "code",
   "execution_count": 25,
   "id": "a53d9f84-453f-4c56-8bf9-7ffcc4e91e53",
   "metadata": {},
   "outputs": [
    {
     "name": "stdout",
     "output_type": "stream",
     "text": [
      "id             0\n",
      "full_name      0\n",
      "age            1\n",
      "gender         1\n",
      "model          4\n",
      "color          1\n",
      "performance    3\n",
      "km             3\n",
      "condition      0\n",
      "price          0\n",
      "dtype: int64\n",
      "Total number of missing values is :  13\n"
     ]
    }
   ],
   "source": [
    "# 2. Missing values in the dataset\n",
    "missing_values = data.isnull().sum()\n",
    "print(missing_values)\n",
    "\n",
    "total = missing_values.sum()\n",
    "print(\"Total number of missing values is : \",total)"
   ]
  },
  {
   "cell_type": "code",
   "execution_count": 27,
   "id": "d0387c6f-e457-49d2-a870-87c06ab0480f",
   "metadata": {},
   "outputs": [
    {
     "name": "stdout",
     "output_type": "stream",
     "text": [
      "id               int64\n",
      "full_name       object\n",
      "age            float64\n",
      "gender          object\n",
      "model           object\n",
      "color           object\n",
      "performance    float64\n",
      "km             float64\n",
      "condition       object\n",
      "price          float64\n",
      "dtype: object\n"
     ]
    }
   ],
   "source": [
    "# 3. Data type of each column\n",
    "data_types = data.dtypes\n",
    "print(data_types)"
   ]
  },
  {
   "cell_type": "code",
   "execution_count": 29,
   "id": "10d945e3-7f82-4bad-aff6-9ef7d51fcfc0",
   "metadata": {},
   "outputs": [
    {
     "name": "stdout",
     "output_type": "stream",
     "text": [
      "id             0\n",
      "full_name      0\n",
      "age            0\n",
      "gender         0\n",
      "model          0\n",
      "color          0\n",
      "performance    0\n",
      "km             0\n",
      "condition      0\n",
      "price          0\n",
      "dtype: int64\n",
      "Total number of zeros are :  0\n"
     ]
    }
   ],
   "source": [
    "# 4. Finding out zeros\n",
    "zeros = (data == 0).sum()\n",
    "print(zeros)\n",
    "\n",
    "tot = zeros.sum()\n",
    "print(\"Total number of zeros are : \",tot)"
   ]
  },
  {
   "cell_type": "code",
   "execution_count": 31,
   "id": "a011f6a4-488f-4b51-bca9-0fa01471a8df",
   "metadata": {},
   "outputs": [
    {
     "name": "stdout",
     "output_type": "stream",
     "text": [
      "38.56390977443609\n"
     ]
    }
   ],
   "source": [
    "# 5. Mean age\n",
    "mean_age = data['age'].mean()\n",
    "print(mean_age)"
   ]
  },
  {
   "cell_type": "code",
   "execution_count": 33,
   "id": "db48dfa1-d58e-43e6-9151-cb6fae0df8a7",
   "metadata": {},
   "outputs": [
    {
     "name": "stdout",
     "output_type": "stream",
     "text": [
      "(400, 5)\n",
      "number of samples: 400\n",
      "number of features: 5\n",
      "<class 'pandas.core.frame.DataFrame'>\n",
      "RangeIndex: 400 entries, 0 to 399\n",
      "Data columns (total 5 columns):\n",
      " #   Column       Non-Null Count  Dtype  \n",
      "---  ------       --------------  -----  \n",
      " 0   id           400 non-null    int64  \n",
      " 1   age          399 non-null    float64\n",
      " 2   performance  397 non-null    float64\n",
      " 3   km           397 non-null    float64\n",
      " 4   price        400 non-null    float64\n",
      "dtypes: float64(4), int64(1)\n",
      "memory usage: 15.8 KB\n",
      "None\n"
     ]
    }
   ],
   "source": [
    "df2 = data.select_dtypes(include=['number'])\n",
    "print(df2.shape)\n",
    "f=df2.shape\n",
    "print(\"number of samples:\",f[0])\n",
    "print(\"number of features:\",f[1])\n",
    "print(df2.info())"
   ]
  },
  {
   "cell_type": "code",
   "execution_count": 35,
   "id": "0ab8f8b6-8eb5-42e0-b332-0a5284cf4f6d",
   "metadata": {},
   "outputs": [
    {
     "data": {
      "text/html": [
       "<div>\n",
       "<style scoped>\n",
       "    .dataframe tbody tr th:only-of-type {\n",
       "        vertical-align: middle;\n",
       "    }\n",
       "\n",
       "    .dataframe tbody tr th {\n",
       "        vertical-align: top;\n",
       "    }\n",
       "\n",
       "    .dataframe thead th {\n",
       "        text-align: right;\n",
       "    }\n",
       "</style>\n",
       "<table border=\"1\" class=\"dataframe\">\n",
       "  <thead>\n",
       "    <tr style=\"text-align: right;\">\n",
       "      <th></th>\n",
       "      <th>id</th>\n",
       "      <th>age</th>\n",
       "      <th>performance</th>\n",
       "      <th>km</th>\n",
       "      <th>price</th>\n",
       "    </tr>\n",
       "  </thead>\n",
       "  <tbody>\n",
       "    <tr>\n",
       "      <th>id</th>\n",
       "      <td>1.000000</td>\n",
       "      <td>-0.025122</td>\n",
       "      <td>0.040426</td>\n",
       "      <td>0.013772</td>\n",
       "      <td>-0.014263</td>\n",
       "    </tr>\n",
       "    <tr>\n",
       "      <th>age</th>\n",
       "      <td>-0.025122</td>\n",
       "      <td>1.000000</td>\n",
       "      <td>0.054355</td>\n",
       "      <td>0.000427</td>\n",
       "      <td>0.053576</td>\n",
       "    </tr>\n",
       "    <tr>\n",
       "      <th>performance</th>\n",
       "      <td>0.040426</td>\n",
       "      <td>0.054355</td>\n",
       "      <td>1.000000</td>\n",
       "      <td>-0.022019</td>\n",
       "      <td>0.120955</td>\n",
       "    </tr>\n",
       "    <tr>\n",
       "      <th>km</th>\n",
       "      <td>0.013772</td>\n",
       "      <td>0.000427</td>\n",
       "      <td>-0.022019</td>\n",
       "      <td>1.000000</td>\n",
       "      <td>-0.144301</td>\n",
       "    </tr>\n",
       "    <tr>\n",
       "      <th>price</th>\n",
       "      <td>-0.014263</td>\n",
       "      <td>0.053576</td>\n",
       "      <td>0.120955</td>\n",
       "      <td>-0.144301</td>\n",
       "      <td>1.000000</td>\n",
       "    </tr>\n",
       "  </tbody>\n",
       "</table>\n",
       "</div>"
      ],
      "text/plain": [
       "                   id       age  performance        km     price\n",
       "id           1.000000 -0.025122     0.040426  0.013772 -0.014263\n",
       "age         -0.025122  1.000000     0.054355  0.000427  0.053576\n",
       "performance  0.040426  0.054355     1.000000 -0.022019  0.120955\n",
       "km           0.013772  0.000427    -0.022019  1.000000 -0.144301\n",
       "price       -0.014263  0.053576     0.120955 -0.144301  1.000000"
      ]
     },
     "execution_count": 35,
     "metadata": {},
     "output_type": "execute_result"
    }
   ],
   "source": [
    "df2.corr()"
   ]
  },
  {
   "cell_type": "code",
   "execution_count": 37,
   "id": "f2887009-5c5b-4817-ab00-2339d1baeb18",
   "metadata": {},
   "outputs": [
    {
     "name": "stdout",
     "output_type": "stream",
     "text": [
      "Maximum correlation value:  0.12095473491218621\n",
      "Variable pairs with maximum correlation :  [('performance', 'price'), ('price', 'performance')]\n"
     ]
    }
   ],
   "source": [
    "corr = df2.corr()\n",
    "np.fill_diagonal(corr.values, np.nan)\n",
    "\n",
    "max_corr = corr.max().max()\n",
    "max_corr_ind = np.where(corr == max_corr)\n",
    "max_corr_pairs = [(corr.index[i] , corr.columns[j]) for i,j in zip(*max_corr_ind)]\n",
    "\n",
    "print(\"Maximum correlation value: \",max_corr)\n",
    "print(\"Variable pairs with maximum correlation : \",max_corr_pairs)"
   ]
  },
  {
   "cell_type": "code",
   "execution_count": 55,
   "id": "29c7ecf7-7666-4eed-a1e6-b705a3a3ae5a",
   "metadata": {},
   "outputs": [
    {
     "name": "stdout",
     "output_type": "stream",
     "text": [
      "Graph should be plotted between :  performance and price\n"
     ]
    }
   ],
   "source": [
    "first  = max_corr_pairs[0][0]\n",
    "second = max_corr_pairs[0][1]\n",
    "print(\"Graph should be plotted between : \", first , \"and\" ,  second );"
   ]
  },
  {
   "cell_type": "code",
   "execution_count": 57,
   "id": "6dd4e89c-a4fd-4b69-8229-273bef319239",
   "metadata": {},
   "outputs": [],
   "source": [
    "x = data[first]\n",
    "y = data[second]\n",
    "\n",
    "# Splitting the dataset into training and testing sets\n",
    "train_x , test_x , train_y , test_y = train_test_split(x, y, test_size=0.25, random_state=24)"
   ]
  },
  {
   "cell_type": "code",
   "execution_count": 67,
   "id": "a83894df-9a2c-4815-9876-5a17b3c983b7",
   "metadata": {},
   "outputs": [
    {
     "data": {
      "image/png": "[encoded data removed]",
      "text/plain": [
       "<Figure size 1000x600 with 1 Axes>"
      ]
     },
     "metadata": {},
     "output_type": "display_data"
    }
   ],
   "source": [
    "# Plotting training vs testing data\n",
    "plt.figure(figsize=(10, 6))\n",
    "plt.plot(train_x, train_y, linestyle = ' ',color='black',marker='o',markersize=3, label='Training Data')\n",
    "plt.plot(test_x, test_y, linestyle = ' ' ,color='yellow',marker='o',markersize=3, label='Testing Data')\n",
    "plt.xlabel('Performance')\n",
    "plt.ylabel('Price')\n",
    "plt.title('Training vs Testing Data')\n",
    "plt.legend()\n",
    "plt.show()\n"
   ]
  },
  {
   "cell_type": "code",
   "execution_count": null,
   "id": "aa14fa22-3028-4077-a88e-42f3939e751a",
   "metadata": {},
   "outputs": [],
   "source": []
  }
 ],
 "metadata": {
  "kernelspec": {
   "display_name": "Python 3 (ipykernel)",
   "language": "python",
   "name": "python3"
  },
  "language_info": {
   "codemirror_mode": {
    "name": "ipython",
    "version": 3
   },
   "file_extension": ".py",
   "mimetype": "text/x-python",
   "name": "python",
   "nbconvert_exporter": "python",
   "pygments_lexer": "ipython3",
   "version": "3.12.4"
  }
 },
 "nbformat": 4,
 "nbformat_minor": 5
}
